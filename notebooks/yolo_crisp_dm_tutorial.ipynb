{
 "cells": [
  {
   "cell_type": "markdown",
   "metadata": {},
   "source": [
    "# YOLO Object Detection with CRISP-DM Methodology\n",
    "# YOLO 物件偵測：CRISP-DM 方法論教學\n",
    "\n",
    "**Author/作者:** Ben Chen\n",
    "**Date/日期:** 2025-10-31\n",
    "**Version/版本:** 1.0\n",
    "\n",
    "---\n",
    "\n",
    "## Table of Contents / 目錄\n",
    "\n",
    "1. [Business Understanding / 業務理解](#1-business-understanding)\n",
    "2. [Data Understanding / 數據理解](#2-data-understanding)\n",
    "3. [Data Preparation / 數據準備](#3-data-preparation)\n",
    "4. [Modeling / 建模](#4-modeling)\n",
    "5. [Evaluation / 評估](#5-evaluation)\n",
    "6. [Deployment / 部署](#6-deployment)\n",
    "\n",
    "---"
   ]
  },
  {
   "cell_type": "markdown",
   "metadata": {},
   "source": [
    "## Environment Setup / 環境設定\n",
    "\n",
    "**English:** First, let's set up our working environment by importing necessary libraries and configuring paths.\n",
    "**中文:** 首先，我們設置工作環境，導入必要的函式庫並配置路徑。"
   ]
  },
  {
   "cell_type": "code",
   "execution_count": null,
   "metadata": {},
   "outputs": [],
   "source": [
    "# Standard library imports / 標準函式庫導入\n",
    "import os\n",
    "import sys\n",
    "from pathlib import Path\n",
    "import json\n",
    "import yaml\n",
    "\n",
    "# Data manipulation and visualization / 數據處理與視覺化\n",
    "import numpy as np\n",
    "import pandas as pd\n",
    "import matplotlib.pyplot as plt\n",
    "import seaborn as sns\n",
    "from PIL import Image\n",
    "import cv2\n",
    "\n",
    "# Deep Learning frameworks / 深度學習框架\n",
    "import torch\n",
    "from ultralytics import YOLO\n",
    "\n",
    "# Utility imports / 工具導入\n",
    "from tqdm import tqdm\n",
    "import warnings\n",
    "warnings.filterwarnings('ignore')\n",
    "\n",
    "# Set random seeds for reproducibility / 設置隨機種子以確保可重現性\n",
    "np.random.seed(42)\n",
    "torch.manual_seed(42)\n",
    "\n",
    "# Configure plotting style / 配置繪圖風格\n",
    "sns.set_style('whitegrid')\n",
    "plt.rcParams['figure.figsize'] = (12, 8)\n",
    "plt.rcParams['font.size'] = 10\n",
    "\n",
    "print(f'PyTorch version: {torch.__version__}')\n",
    "print(f'CUDA available: {torch.cuda.is_available()}')\n",
    "print(f'Device: {torch.cuda.get_device_name(0) if torch.cuda.is_available() else \"CPU\"}')"
   ]
  },
  {
   "cell_type": "code",
   "execution_count": null,
   "metadata": {},
   "outputs": [],
   "source": [
    "# Project directory structure / 專案目錄結構\n",
    "PROJECT_ROOT = Path.cwd().parent if 'notebooks' in str(Path.cwd()) else Path.cwd()\n",
    "DATA_DIR = PROJECT_ROOT / 'data'\n",
    "ANNOTATIONS_DIR = DATA_DIR / 'annotations'\n",
    "IMAGES_DIR = DATA_DIR / 'images'\n",
    "MODELS_DIR = PROJECT_ROOT / 'models'\n",
    "RESULTS_DIR = PROJECT_ROOT / 'results'\n",
    "\n",
    "# Create directories if they don't exist / 如果目錄不存在則創建\n",
    "for dir_path in [DATA_DIR, ANNOTATIONS_DIR, IMAGES_DIR, MODELS_DIR, RESULTS_DIR]:\n",
    "    dir_path.mkdir(parents=True, exist_ok=True)\n",
    "\n",
    "print('Directory structure created successfully!')\n",
    "print(f'Project Root: {PROJECT_ROOT}')"
   ]
  }
 ]
}
